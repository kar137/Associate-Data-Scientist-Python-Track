{
 "cells": [
  {
   "cell_type": "markdown",
   "metadata": {},
   "source": [
    "# Introduction to Python\n",
    "\n",
    "## Variables and Datatypes\n",
    "\n",
    "### Operations with other types\n",
    "\n",
    "- In python, We can check variable types using typechecking. eg: type(variable_name)\n"
   ]
  },
  {
   "cell_type": "code",
   "execution_count": 1,
   "metadata": {},
   "outputs": [
    {
     "name": "stdout",
     "output_type": "stream",
     "text": [
      "140\n",
      "<class 'int'>\n"
     ]
    }
   ],
   "source": [
    "knife = 100\n",
    "sword = 40\n",
    "\n",
    "# Calculate total_weapons using knife and sword\n",
    "total_weapons = knife + sword\n",
    "print(total_weapons)\n",
    "\n",
    "# Print the type of total_weapns\n",
    "print(type(total_weapons))"
   ]
  },
  {
   "cell_type": "markdown",
   "metadata": {},
   "source": [
    "- In python, different datatypes behaves differently. When we sum two strings is completely different from when we sum two integers."
   ]
  },
  {
   "cell_type": "code",
   "execution_count": 2,
   "metadata": {},
   "outputs": [
    {
     "name": "stdout",
     "output_type": "stream",
     "text": [
      "Hello!Hello!\n"
     ]
    }
   ],
   "source": [
    "greeting = \"Hello!\"\n",
    "\n",
    "# Assign sum of greeting and greeting to doubleintro\n",
    "doublegreeting = greeting + greeting\n",
    "\n",
    "# Print out doubleintro\n",
    "print(doublegreeting)"
   ]
  },
  {
   "cell_type": "markdown",
   "metadata": {},
   "source": [
    "## Python Lists\n",
    "- A list is a group of elements which may be of same datatype or different. \n",
    "\n",
    "  - a = \"up!\"\n",
    "  - b = \"mate\"\n",
    "  - list = [\"hello\", \"what's\", a, b]"
   ]
  },
  {
   "cell_type": "code",
   "execution_count": 3,
   "metadata": {},
   "outputs": [
    {
     "name": "stdout",
     "output_type": "stream",
     "text": [
      "[14.5, 16.0, 12.75, 8.25, 10.0]\n"
     ]
    }
   ],
   "source": [
    "living_room = 14.5\n",
    "kitchen = 16.0\n",
    "bedroom = 12.75\n",
    "bathroom = 8.25\n",
    "office = 10.0\n",
    "\n",
    "# Create list of room sizes\n",
    "room_sizes = [living_room, kitchen, bedroom, bathroom, office]\n",
    "\n",
    "# Print the list of room sizes\n",
    "print(room_sizes)"
   ]
  },
  {
   "cell_type": "markdown",
   "metadata": {},
   "source": [
    "### Create lists with different types\n",
    "It's although not necessary but a list can contain a mix of datatypes."
   ]
  },
  {
   "cell_type": "code",
   "execution_count": 4,
   "metadata": {},
   "outputs": [
    {
     "name": "stdout",
     "output_type": "stream",
     "text": [
      "['dining room', 15.0, 'study room', 12.5, 'garage', 22.0, 'laundry', 7.5, 'corridor', 8.25]\n"
     ]
    }
   ],
   "source": [
    "dining = 15.0\n",
    "study = 12.5\n",
    "garage = 22.0\n",
    "laundry = 7.5\n",
    "corridor = 8.25\n",
    "\n",
    "# Create list with room names and areas\n",
    "spaces = [\"dining room\", dining, \"study room\", study, \"garage\", garage, \"laundry\", laundry, \"corridor\", corridor]\n",
    "\n",
    "# Print spaces\n",
    "print(spaces)"
   ]
  },
  {
   "cell_type": "markdown",
   "metadata": {},
   "source": [
    "### List of lists\n",
    "- We can always group relatable variable and data by creating a list of lists. It has a crucial significance to work as a datascientist as well."
   ]
  },
  {
   "cell_type": "code",
   "execution_count": 5,
   "metadata": {},
   "outputs": [
    {
     "name": "stdout",
     "output_type": "stream",
     "text": [
      "[['living room', 22.5], ['kitchen', 14.0], ['office', 12.0], ['library', 16.25], ['bathroom', 9.75]]\n"
     ]
    }
   ],
   "source": [
    "living_room = 22.5\n",
    "kitchen = 14.0\n",
    "office = 12.0\n",
    "library = 16.25\n",
    "bathroom = 9.75\n",
    "\n",
    "# House information as list of lists\n",
    "new_house = [[\"living room\", living_room],\n",
    "             [\"kitchen\", kitchen],\n",
    "             [\"office\", office],\n",
    "             [\"library\", library],\n",
    "             [\"bathroom\", bathroom]]\n",
    "\n",
    "# Print out new_house\n",
    "print(new_house)"
   ]
  },
  {
   "cell_type": "markdown",
   "metadata": {},
   "source": [
    "## Subsetting Lists\n",
    "### Subset list\n",
    "- We can always subset list with help of indexing. We can use positive index to start from begining and negative to start from end.\n",
    "\n",
    "  - a = [\"u\", \"v\", \"w\", \"2\"]\n",
    "  - a[1]\n",
    "  - a[-3] # same result"
   ]
  },
  {
   "cell_type": "code",
   "execution_count": 6,
   "metadata": {},
   "outputs": [
    {
     "name": "stdout",
     "output_type": "stream",
     "text": [
      "14.5\n",
      "8.75\n",
      "16.0\n"
     ]
    }
   ],
   "source": [
    "# Create the spaces list\n",
    "spaces = [\"entrance\", 14.5, \"dining room\", 16.0, \"study\", 12.25, \"master bedroom\", 18.5, \"guest bathroom\", 8.75]\n",
    "\n",
    "# Print out second element from spaces\n",
    "print(spaces[1])\n",
    "\n",
    "# Print out last element from spaces\n",
    "print(spaces[-1])\n",
    "\n",
    "# Print out the area of the dining room\n",
    "print(spaces[3])"
   ]
  },
  {
   "cell_type": "markdown",
   "metadata": {},
   "source": [
    "### Slicing List\n",
    "- We can also select multiple elements from a list with the help of slicing and dicing technique.\n",
    "\n",
    "  list[start:end]\n",
    "- While slicing start index is inclusive whereas end index is exclusive and if start index is ommited then the index starts from beginning of the list."
   ]
  },
  {
   "cell_type": "code",
   "execution_count": 7,
   "metadata": {},
   "outputs": [
    {
     "name": "stdout",
     "output_type": "stream",
     "text": [
      "['entrance hall', 15.0, 'dining room', 12.5, 'living area', 22.0]\n",
      "['master suite', 18.0, 'guest room', 9.0]\n"
     ]
    }
   ],
   "source": [
    "# Create the spaces list\n",
    "spaces = [\"entrance hall\", 15.0, \"dining room\", 12.5, \"living area\", 22.0, \"master suite\", 18.0, \"guest room\", 9.0]\n",
    "\n",
    "# Use slicing to create downstairs\n",
    "downstairs = spaces[:6]\n",
    "\n",
    "# Use slicing to create upstairs\n",
    "upstairs = spaces[6:]\n",
    "\n",
    "# Print out downstairs and upstairs\n",
    "print(downstairs)\n",
    "print(upstairs)"
   ]
  },
  {
   "cell_type": "markdown",
   "metadata": {},
   "source": [
    "### Subsetting lists of lists\n",
    "- A list can also have other lists.\n",
    "- To subset list we again use the same technique and it looks like this for a list, hall:\n",
    "\n",
    "  hall[3][0]"
   ]
  },
  {
   "cell_type": "code",
   "execution_count": 8,
   "metadata": {},
   "outputs": [
    {
     "data": {
      "text/plain": [
       "18.25"
      ]
     },
     "execution_count": 8,
     "metadata": {},
     "output_type": "execute_result"
    }
   ],
   "source": [
    "house = [[\"entryway\", 14.0],\n",
    "         [\"dining room\", 16.5],\n",
    "         [\"office\", 12.0],\n",
    "         [\"library\", 18.25],\n",
    "         [\"guest bathroom\", 8.75]]\n",
    "\n",
    "# Subset the house list\n",
    "house[3][1]"
   ]
  },
  {
   "cell_type": "markdown",
   "metadata": {},
   "source": [
    "## List Manipulation\n",
    "### Replace list elements\n",
    "- To replace list elements, we can subset the list and assign new values to them. We can change entire list as well."
   ]
  },
  {
   "cell_type": "code",
   "execution_count": 9,
   "metadata": {},
   "outputs": [
    {
     "name": "stdout",
     "output_type": "stream",
     "text": [
      "['entrance hall', 14.5, 'dining room', 16.0, 'creative space', 12.5, 'master bedroom', 18.0, 'guest bathroom', 10.0]\n"
     ]
    }
   ],
   "source": [
    "# Create the spaces list\n",
    "spaces = [\"entrance hall\", 14.5, \"dining room\", 16.0, \"study room\", 12.5, \"master bedroom\", 18.0, \"guest bathroom\", 9.25]\n",
    "\n",
    "# Correct the guest bathroom area\n",
    "spaces[-1] = 10.0\n",
    "\n",
    "# Change \"study room\" to \"creative space\"\n",
    "spaces[4] = \"creative space\"\n",
    "\n",
    "# Print the updated spaces list\n",
    "print(spaces)"
   ]
  },
  {
   "cell_type": "markdown",
   "metadata": {},
   "source": [
    "### Extend a list\n",
    "- We can extend list elements using + operator:\n",
    "\n",
    "  - u = [\"1\", \"x\", \"d\", \"g\"]\n",
    "  - z = u + [\"e\", \"f\"]"
   ]
  },
  {
   "cell_type": "code",
   "execution_count": 10,
   "metadata": {},
   "outputs": [
    {
     "name": "stdout",
     "output_type": "stream",
     "text": [
      "['entry hall', 12.5, 'dining area', 16.5, 'creative space', 22.0, 'master suite', 18.0, 'guest bathroom', 10.25, 'attic', 30.0, 'basement', 20.0]\n"
     ]
    }
   ],
   "source": [
    "# Create the spaces list and make some changes\n",
    "spaces = [\"entry hall\", 12.5, \"dining area\", 16.5, \"creative space\", 22.0,\n",
    "          \"master suite\", 18.0, \"guest bathroom\", 10.25]\n",
    "\n",
    "# Add attic data to spaces, new list is spaces_1\n",
    "spaces_1 = spaces + [\"attic\", 30.0]\n",
    "\n",
    "# Add basement data to spaces_1, new list is spaces_2\n",
    "spaces_2 = spaces_1 + [\"basement\", 20.0]\n",
    "\n",
    "# Print the final spaces_2 list\n",
    "print(spaces_2)"
   ]
  },
  {
   "cell_type": "markdown",
   "metadata": {},
   "source": [
    "### Delete list elements\n",
    "- We can remove elements from the list with the del statement:\n",
    "\n",
    "  - u = [\"x\", \"y\", \"z\", \"q\"]\n",
    "  - del u[1]\n",
    "- Note: After deleting an element, the list indexing changes for elements after the deleted item."
   ]
  },
  {
   "cell_type": "code",
   "execution_count": 11,
   "metadata": {},
   "outputs": [
    {
     "name": "stdout",
     "output_type": "stream",
     "text": [
      "['entry hall', 12.5, 'dining area', 16.5, 'creative space', 22.0, 'master suite', 18.0, 'attic', 30.0, 'basement', 20.0]\n"
     ]
    }
   ],
   "source": [
    "# Create the spaces list\n",
    "spaces = [\"entry hall\", 12.5, \"dining area\", 16.5,\n",
    "          \"creative space\", 22.0, \"master suite\", 18.0,\n",
    "          \"guest bathroom\", 10.25, \"attic\", 30.0,\n",
    "          \"basement\", 20.0]\n",
    "\n",
    "# Delete the attic items from the list\n",
    "del spaces[8]\n",
    "del spaces[8]\n",
    "\n",
    "# Print the updated list\n",
    "print(spaces)"
   ]
  },
  {
   "cell_type": "markdown",
   "metadata": {},
   "source": [
    "### workings of lists\n",
    "- In this exercise, we have a list areas and its copy areas_copy. Changing the first element in areas_copy also affects areas because both lists point to the same memory location. To avoid this, we need to create an independent copy using list() or slicing [:], so that changes to areas_copy don't affect areas."
   ]
  },
  {
   "cell_type": "code",
   "execution_count": 12,
   "metadata": {},
   "outputs": [
    {
     "name": "stdout",
     "output_type": "stream",
     "text": [
      "[14.5, 16.0, 12.75, 18.25, 9.5]\n"
     ]
    }
   ],
   "source": [
    "# Create list spaces\n",
    "spaces = [14.5, 16.0, 12.75, 18.25, 9.5]\n",
    "\n",
    "# Create a copy of spaces using list()\n",
    "spaces_copy = list(spaces)  # or spaces[:]\n",
    "\n",
    "# Modify the copy\n",
    "spaces_copy[2] = 10.0\n",
    "\n",
    "# Print spaces\n",
    "print(spaces)"
   ]
  },
  {
   "cell_type": "markdown",
   "metadata": {},
   "source": [
    "## Functions in Python\n",
    "### Some Familiar Functions\n",
    "- In python, there are already builitin functions which makes our life easier and we already know some of them such as print() and type(). \n",
    "- We use functions such as int(), float(), str() and bool() for type conversion.\n",
    "- example:\n",
    "  - height = type(1.74)"
   ]
  },
  {
   "cell_type": "code",
   "execution_count": 1,
   "metadata": {},
   "outputs": [
    {
     "name": "stdout",
     "output_type": "stream",
     "text": [
      "<class 'list'>\n",
      "3\n"
     ]
    }
   ],
   "source": [
    "# Create variables my_list and my_bool\n",
    "my_list = [\"apple\", \"banana\", \"cherry\"]\n",
    "my_bool = False\n",
    "\n",
    "# Print out type of my_list\n",
    "print(type(my_list))\n",
    "\n",
    "# Print out length of my_list\n",
    "print(len(my_list))\n",
    "\n",
    "# Convert my_bool to an integer: result\n",
    "result = int(my_bool)"
   ]
  },
  {
   "cell_type": "markdown",
   "metadata": {},
   "source": [
    "### Knowing about python built-in function\n",
    "- Even if we know python function name but don't know exactly how it works so we can know about it by typing help(function_name) or using ?function_name.\n",
    "- example:\n",
    "  - help(type)\n",
    "  - ?type"
   ]
  },
  {
   "cell_type": "code",
   "execution_count": 2,
   "metadata": {},
   "outputs": [
    {
     "name": "stdout",
     "output_type": "stream",
     "text": [
      "\u001b[1;31mSignature:\u001b[0m \u001b[0mpow\u001b[0m\u001b[1;33m(\u001b[0m\u001b[0mbase\u001b[0m\u001b[1;33m,\u001b[0m \u001b[0mexp\u001b[0m\u001b[1;33m,\u001b[0m \u001b[0mmod\u001b[0m\u001b[1;33m=\u001b[0m\u001b[1;32mNone\u001b[0m\u001b[1;33m)\u001b[0m\u001b[1;33m\u001b[0m\u001b[1;33m\u001b[0m\u001b[0m\n",
      "\u001b[1;31mDocstring:\u001b[0m\n",
      "Equivalent to base**exp with 2 arguments or base**exp % mod with 3 arguments\n",
      "\n",
      "Some types, such as ints, are able to use a more efficient algorithm when\n",
      "invoked using the three argument form.\n",
      "\u001b[1;31mType:\u001b[0m      builtin_function_or_method"
     ]
    }
   ],
   "source": [
    "?pow"
   ]
  },
  {
   "cell_type": "markdown",
   "metadata": {},
   "source": [
    "### Multiple Arguments\n",
    "- We have seen as above we can use multiple arguments for a function.\n",
    "- Let's apply this for sorted() function."
   ]
  },
  {
   "cell_type": "code",
   "execution_count": 3,
   "metadata": {},
   "outputs": [
    {
     "name": "stdout",
     "output_type": "stream",
     "text": [
      "[92, 88, 78, 67, 45]\n"
     ]
    }
   ],
   "source": [
    "# Create lists scores1 and scores2\n",
    "scores1 = [45, 78, 92]\n",
    "scores2 = [88, 67]\n",
    "\n",
    "# Combine scores1 and scores2: all_scores\n",
    "all_scores = scores1 + scores2\n",
    "\n",
    "# Sort all_scores in descending order: sorted_scores\n",
    "sorted_scores = sorted(all_scores, reverse=True)\n",
    "\n",
    "# Print out sorted_scores\n",
    "print(sorted_scores)"
   ]
  },
  {
   "cell_type": "markdown",
   "metadata": {},
   "source": [
    "## Methods\n",
    "- Methods are the functions which belong to python objects.\n",
    "### String Methods\n",
    "- String also comes with bunch of methods as well."
   ]
  },
  {
   "cell_type": "code",
   "execution_count": 4,
   "metadata": {},
   "outputs": [
    {
     "name": "stdout",
     "output_type": "stream",
     "text": [
      "backpack\n",
      "BACKPACK\n",
      "2\n"
     ]
    }
   ],
   "source": [
    "# String to experiment with: item\n",
    "item = \"backpack\"\n",
    "\n",
    "# Use upper() on item\n",
    "item_up = item.upper()\n",
    "\n",
    "# Print out item and item_up\n",
    "print(item)\n",
    "print(item_up)\n",
    "\n",
    "# Print out the number of 'a's in item\n",
    "print(item.count(\"a\"))\n"
   ]
  },
  {
   "cell_type": "markdown",
   "metadata": {},
   "source": [
    "### Other Methods\n",
    "- In addition to string, Lists, floats, booleans and integers also comeup with different useful methods.\n",
    "- We can always use count() to count the number of times an element appears in a list and index() to get the index the element of a list that matches the input."
   ]
  },
  {
   "cell_type": "code",
   "execution_count": 5,
   "metadata": {},
   "outputs": [
    {
     "name": "stdout",
     "output_type": "stream",
     "text": [
      "2\n",
      "2\n"
     ]
    }
   ],
   "source": [
    "# Create list prices\n",
    "prices = [25.50, 40.75, 30.00, 25.50, 15.25]\n",
    "\n",
    "# Print out the index of the element 30.00\n",
    "print(prices.index(30.00))\n",
    "\n",
    "# Print out how often 25.50 appears in prices\n",
    "print(prices.count(25.50))"
   ]
  },
  {
   "cell_type": "markdown",
   "metadata": {},
   "source": [
    "### List Methods\n",
    "- We can always use different list methods such as:\n",
    "  - append() , helps to extend a list by adding element\n",
    "  - reverse() , helps to reverse the order of elements\n",
    "  - remove() , helps to remove the first element in a list which matches the input"
   ]
  },
  {
   "cell_type": "code",
   "execution_count": 6,
   "metadata": {},
   "outputs": [
    {
     "name": "stdout",
     "output_type": "stream",
     "text": [
      "[55.2, 67.8, 72.5, 60.3, 58.9, 80.4, 65.7]\n",
      "[65.7, 80.4, 58.9, 60.3, 72.5, 67.8, 55.2]\n"
     ]
    }
   ],
   "source": [
    "# Create list weights\n",
    "weights = [55.2, 67.8, 72.5, 60.3, 58.9]\n",
    "\n",
    "# Use append twice to add two new weights\n",
    "weights.append(80.4)\n",
    "weights.append(65.7)\n",
    "\n",
    "# Print out weights\n",
    "print(weights)\n",
    "\n",
    "# Reverse the order of the elements in weights\n",
    "weights.reverse()\n",
    "\n",
    "# Print out weights\n",
    "print(weights)"
   ]
  },
  {
   "cell_type": "markdown",
   "metadata": {},
   "source": []
  }
 ],
 "metadata": {
  "kernelspec": {
   "display_name": "base",
   "language": "python",
   "name": "python3"
  },
  "language_info": {
   "codemirror_mode": {
    "name": "ipython",
    "version": 3
   },
   "file_extension": ".py",
   "mimetype": "text/x-python",
   "name": "python",
   "nbconvert_exporter": "python",
   "pygments_lexer": "ipython3",
   "version": "3.12.7"
  }
 },
 "nbformat": 4,
 "nbformat_minor": 2
}
